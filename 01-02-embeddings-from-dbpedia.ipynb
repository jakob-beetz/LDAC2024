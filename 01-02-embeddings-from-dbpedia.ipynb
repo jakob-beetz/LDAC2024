{
 "cells": [
  {
   "cell_type": "code",
   "execution_count": 1,
   "id": "66d7a826-3af4-49ca-9705-c8f520cf500e",
   "metadata": {},
   "outputs": [
    {
     "ename": "TypeError",
     "evalue": "langchain_core.documents.base.Document() argument after ** must be a mapping, not str",
     "output_type": "error",
     "traceback": [
      "\u001b[1;31m---------------------------------------------------------------------------\u001b[0m",
      "\u001b[1;31mTypeError\u001b[0m                                 Traceback (most recent call last)",
      "Cell \u001b[1;32mIn[1], line 19\u001b[0m\n\u001b[0;32m     17\u001b[0m \u001b[38;5;66;03m# Load the vectorstore from the JSON file\u001b[39;00m\n\u001b[0;32m     18\u001b[0m oembed \u001b[38;5;241m=\u001b[39m OllamaEmbeddings(base_url\u001b[38;5;241m=\u001b[39m\u001b[38;5;124m\"\u001b[39m\u001b[38;5;124mhttp://localhost:11434\u001b[39m\u001b[38;5;124m\"\u001b[39m, model\u001b[38;5;241m=\u001b[39m\u001b[38;5;124m\"\u001b[39m\u001b[38;5;124mnomic-embed-text\u001b[39m\u001b[38;5;124m\"\u001b[39m)\n\u001b[1;32m---> 19\u001b[0m loaded_vectorstore \u001b[38;5;241m=\u001b[39m load_vectorstore_from_file(\u001b[38;5;124m'\u001b[39m\u001b[38;5;124mvectorstore_data.json\u001b[39m\u001b[38;5;124m'\u001b[39m, oembed)\n\u001b[0;32m     21\u001b[0m \u001b[38;5;66;03m# Verify by querying the loaded vectorstore\u001b[39;00m\n\u001b[0;32m     22\u001b[0m results \u001b[38;5;241m=\u001b[39m loaded_vectorstore\u001b[38;5;241m.\u001b[39mquery(\u001b[38;5;124m\"\u001b[39m\u001b[38;5;124mexample query\u001b[39m\u001b[38;5;124m\"\u001b[39m, k\u001b[38;5;241m=\u001b[39m\u001b[38;5;241m1\u001b[39m)\n",
      "Cell \u001b[1;32mIn[1], line 11\u001b[0m, in \u001b[0;36mload_vectorstore_from_file\u001b[1;34m(filename, oembed)\u001b[0m\n\u001b[0;32m      8\u001b[0m     data \u001b[38;5;241m=\u001b[39m json\u001b[38;5;241m.\u001b[39mload(f)\n\u001b[0;32m     10\u001b[0m \u001b[38;5;66;03m# Reconstruct documents from data\u001b[39;00m\n\u001b[1;32m---> 11\u001b[0m documents \u001b[38;5;241m=\u001b[39m [Document(\u001b[38;5;241m*\u001b[39m\u001b[38;5;241m*\u001b[39mdoc) \u001b[38;5;28;01mfor\u001b[39;00m doc \u001b[38;5;129;01min\u001b[39;00m data[\u001b[38;5;124m\"\u001b[39m\u001b[38;5;124mdocuments\u001b[39m\u001b[38;5;124m\"\u001b[39m]]\n\u001b[0;32m     13\u001b[0m \u001b[38;5;66;03m# Initialize a new Chroma vectorstore with the loaded data\u001b[39;00m\n\u001b[0;32m     14\u001b[0m vectorstore \u001b[38;5;241m=\u001b[39m Chroma\u001b[38;5;241m.\u001b[39mfrom_documents(documents\u001b[38;5;241m=\u001b[39mdocuments, embedding\u001b[38;5;241m=\u001b[39moembed)\n",
      "\u001b[1;31mTypeError\u001b[0m: langchain_core.documents.base.Document() argument after ** must be a mapping, not str"
     ]
    }
   ],
   "source": []
  },
  {
   "cell_type": "code",
   "execution_count": 2,
   "id": "94e21136-591a-4789-97b4-9a15478725c3",
   "metadata": {},
   "outputs": [
    {
     "name": "stderr",
     "output_type": "stream",
     "text": [
      "Creating Documents: 100%|█████████████████████████████████████████████████████████████████████| 12/12 [00:00<?, ?it/s]\n",
      "Adding Documents to Vector Store: 100%|███████████████████████████████████████████████| 12/12 [00:28<00:00,  2.34s/it]"
     ]
    },
    {
     "name": "stdout",
     "output_type": "stream",
     "text": [
      "Vectorstore data saved successfully.\n"
     ]
    },
    {
     "name": "stderr",
     "output_type": "stream",
     "text": [
      "\n"
     ]
    }
   ],
   "source": [
    "import csv\n",
    "import json\n",
    "from tqdm import tqdm\n",
    "from langchain.vectorstores import Chroma\n",
    "from langchain.embeddings import OllamaEmbeddings\n",
    "from langchain.docstore.document import Document\n",
    "from langchain.text_splitter import RecursiveCharacterTextSplitter\n",
    "def read_csv(filename):\n",
    "    data = []\n",
    "    with open(filename, 'r', encoding='utf-8') as csvfile:\n",
    "        reader = csv.DictReader(csvfile)\n",
    "        for row in reader:\n",
    "            data.append(row)\n",
    "    return data\n",
    "\n",
    "# Create documents from CSV entries\n",
    "def create_documents(entries):\n",
    "    text_splitter = RecursiveCharacterTextSplitter(chunk_size=5000, chunk_overlap=200)\n",
    "    documents = []\n",
    "    for entry in tqdm(entries, desc=\"Creating Documents\"):\n",
    "        content = f\"URL: {entry['subject']}\\nLabel: {entry['subjectLabel']}\\nDescription: {entry['abstract']}\"\n",
    "        doc = Document(page_content=content)\n",
    "        splits = text_splitter.split_documents([doc])\n",
    "        documents.extend(splits)\n",
    "    return documents\n",
    "\n",
    "# Create vector store with progress indication\n",
    "def create_vectorstore_with_progress(documents, embedding):\n",
    "    #vectorstore = Chroma()\n",
    "    vectorstore = Chroma(embedding_function=embedding,  persist_directory='./data/')\n",
    "    for doc in tqdm(documents, desc=\"Adding Documents to Vector Store\"):\n",
    "        vectorstore.add_documents([doc])\n",
    "    return vectorstore\n",
    "\n",
    "\n",
    "filename = './data/dbpedia_building_materials_small.csv'\n",
    "entries = read_csv(filename)\n",
    "documents = create_documents(entries)\n",
    "\n",
    "oembed = OllamaEmbeddings(base_url=\"http://localhost:11434\", model=\"nomic-embed-text\")\n",
    "#vectorstore = Chroma.from_documents(documents=documents, embedding=oembed)\n",
    "vectorstore = create_vectorstore_with_progress(documents, oembed)\n",
    "\n",
    "print(\"Vectorstore data saved successfully.\")\n",
    "\n"
   ]
  },
  {
   "cell_type": "code",
   "execution_count": 8,
   "id": "4a8f1ff8-cd7b-44f2-a3c2-6d69a6764398",
   "metadata": {},
   "outputs": [
    {
     "name": "stdout",
     "output_type": "stream",
     "text": [
      " <http://dbpedia.org/resource/Engineered_wood> skos:narrower <http://dbpedia.org/resource/Wood> .\n"
     ]
    }
   ],
   "source": [
    "from langchain_community.llms import Ollama\n",
    "#question=\"what is the URL of the material that is created of isocyanate and polyol resin\"\n",
    "question=\"\"\"using the SKOS vocabulary, creata a turtle triple {subject} {predicate} {object} \n",
    "use a SKOS relation that describes the similarity to a subject 'Wood'\n",
    "write a valid line usng turtle syntax.\n",
    "do not write anything else\"\"\"\n",
    "#question=\"what is the URL of the material that closest fitting to the category 'Wood' / 'Derived timber products' / '3- and 5-ply wood'? Only give the URL and a single digit that indicates how sure you are between 0.0 and 1.0\"\n",
    "ollama = Ollama(\n",
    "    base_url='http://localhost:11434',\n",
    "    model=\"mistral\"\n",
    ")\n",
    "docs = vectorstore.similarity_search(question)\n",
    "from langchain.chains import RetrievalQA\n",
    "qachain=RetrievalQA.from_chain_type(ollama, retriever=vectorstore.as_retriever())\n",
    "res = qachain.invoke({\"query\": question})\n",
    "print(res['result'])"
   ]
  },
  {
   "cell_type": "code",
   "execution_count": null,
   "id": "793b10a0-6fc6-4d2d-9965-556c0b26955e",
   "metadata": {},
   "outputs": [],
   "source": []
  }
 ],
 "metadata": {
  "kernelspec": {
   "display_name": "Python 3 (ipykernel)",
   "language": "python",
   "name": "python3"
  },
  "language_info": {
   "codemirror_mode": {
    "name": "ipython",
    "version": 3
   },
   "file_extension": ".py",
   "mimetype": "text/x-python",
   "name": "python",
   "nbconvert_exporter": "python",
   "pygments_lexer": "ipython3",
   "version": "3.12.3"
  }
 },
 "nbformat": 4,
 "nbformat_minor": 5
}
