{
 "cells": [
  {
   "cell_type": "markdown",
   "id": "21653419-cbdd-4800-b5ed-55fd999bb884",
   "metadata": {},
   "source": [
    "# Feed and query our RAG with DBPedia descriptions\n",
    "\n",
    "During class, we will be going back and forth with some parameters, chunking sizes etc. to vary and look at the results.\n"
   ]
  },
  {
   "cell_type": "code",
   "execution_count": null,
   "id": "94e21136-591a-4789-97b4-9a15478725c3",
   "metadata": {},
   "outputs": [],
   "source": [
    "import csv\n",
    "import json\n",
    "from tqdm import tqdm\n",
    "from langchain.vectorstores import Chroma\n",
    "from langchain.embeddings import OllamaEmbeddings\n",
    "from langchain.docstore.document import Document\n",
    "from langchain.text_splitter import RecursiveCharacterTextSplitter\n",
    "def read_csv(filename):\n",
    "    data = []\n",
    "    with open(filename, 'r', encoding='utf-8') as csvfile:\n",
    "        reader = csv.DictReader(csvfile)\n",
    "        for row in reader:\n",
    "            data.append(row)\n",
    "    return data\n",
    "\n",
    "# Create documents from CSV entries\n",
    "def create_documents(entries):\n",
    "    text_splitter = RecursiveCharacterTextSplitter(chunk_size=5000, chunk_overlap=200)\n",
    "    documents = []\n",
    "    for entry in tqdm(entries, desc=\"Creating Documents\"):\n",
    "        content = f\"URL: {entry['subject']}\\nLabel: {entry['subjectLabel']}\\nDescription: {entry['abstract']}\"\n",
    "        doc = Document(page_content=content)\n",
    "        splits = text_splitter.split_documents([doc])\n",
    "        documents.extend(splits)\n",
    "    return documents\n",
    "\n",
    "# Create vector store with progress indication\n",
    "def create_vectorstore_with_progress(documents, embedding):\n",
    "    #vectorstore = Chroma()\n",
    "    vectorstore = Chroma(embedding_function=embedding,  persist_directory='./data/')\n",
    "    for doc in tqdm(documents, desc=\"Adding Documents to Vector Store\"):\n",
    "        vectorstore.add_documents([doc])\n",
    "    return vectorstore\n",
    "\n",
    "\n",
    "filename = './data/dbpedia_building_materials_small.csv'\n",
    "entries = read_csv(filename)\n",
    "documents = create_documents(entries)\n",
    "\n",
    "oembed = OllamaEmbeddings(base_url=\"http://localhost:11434\", model=\"nomic-embed-text\")\n",
    "#vectorstore = Chroma.from_documents(documents=documents, embedding=oembed)\n",
    "vectorstore = create_vectorstore_with_progress(documents, oembed)\n",
    "\n",
    "print(\"Vectorstore data saved successfully.\")\n",
    "\n"
   ]
  },
  {
   "cell_type": "code",
   "execution_count": null,
   "id": "4a8f1ff8-cd7b-44f2-a3c2-6d69a6764398",
   "metadata": {},
   "outputs": [],
   "source": [
    "from langchain_community.llms import Ollama\n",
    "#question=\"what is the URL of the material that is created of isocyanate and polyol resin\"\n",
    "question=\"\"\"using the SKOS vocabulary, creata a turtle triple {subject} {predicate} {object} \n",
    "use a SKOS relation that describes the similarity to a subject from another vocabulary in the namespace odb: with a label 'Solid wood' / 'Glue-laminated timber board''\n",
    "write a valid line usng turtle syntax.\n",
    "do not write anything else\"\"\"\n",
    "#question=\"what is the URL of the material that closest fitting to the category 'Wood' / 'Derived timber products' / '3- and 5-ply wood'? Only give the URL and a single digit that indicates how sure you are between 0.0 and 1.0\"\n",
    "ollama = Ollama(\n",
    "    base_url='http://localhost:11434',\n",
    "    model=\"mistral\"\n",
    ")\n",
    "docs = vectorstore.similarity_search(question)\n",
    "from langchain.chains import RetrievalQA\n",
    "qachain=RetrievalQA.from_chain_type(ollama, retriever=vectorstore.as_retriever())\n",
    "res = qachain.invoke({\"query\": question})\n",
    "print(res['result'])"
   ]
  },
  {
   "cell_type": "code",
   "execution_count": null,
   "id": "793b10a0-6fc6-4d2d-9965-556c0b26955e",
   "metadata": {},
   "outputs": [],
   "source": []
  }
 ],
 "metadata": {
  "kernelspec": {
   "display_name": "Python 3 (ipykernel)",
   "language": "python",
   "name": "python3"
  },
  "language_info": {
   "codemirror_mode": {
    "name": "ipython",
    "version": 3
   },
   "file_extension": ".py",
   "mimetype": "text/x-python",
   "name": "python",
   "nbconvert_exporter": "python",
   "pygments_lexer": "ipython3",
   "version": "3.12.3"
  }
 },
 "nbformat": 4,
 "nbformat_minor": 5
}
