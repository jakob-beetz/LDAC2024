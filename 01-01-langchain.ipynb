{
 "cells": [
  {
   "cell_type": "markdown",
   "id": "7b84509f-47fc-4289-abb4-552c24db0edb",
   "metadata": {},
   "source": [
    "# Install necessary libraries.\n"
   ]
  },
  {
   "cell_type": "code",
   "execution_count": null,
   "id": "3ebdee93-a8f1-4f9e-bbf3-d0df63eabeb0",
   "metadata": {},
   "outputs": [],
   "source": [
    "!pip install rdflib SPARQLWrapper bs4"
   ]
  },
  {
   "cell_type": "code",
   "execution_count": null,
   "id": "9d0f520c-9779-4daa-9606-50dd255afc81",
   "metadata": {},
   "outputs": [],
   "source": [
    "!pip install langchain_community"
   ]
  },
  {
   "cell_type": "code",
   "execution_count": null,
   "id": "6dd70e4e-8ec5-4ed3-bc60-6aac35a89707",
   "metadata": {},
   "outputs": [],
   "source": [
    "!pip install chromadb"
   ]
  },
  {
   "cell_type": "markdown",
   "id": "0d0df5a6-a13a-430f-96b4-4f57b361f12e",
   "metadata": {},
   "source": [
    "# Install an LLM.\n",
    "on your own machine\n",
    "go to https://github.com/ollama/ollama and download the framework for your platform. This is the free(but not Open) Model From Meta\n",
    "\n",
    "https://en.wikipedia.org/wiki/Llama_(language_model)\n",
    "\n",
    "There are many other ways to get local LLMs and RAGs running. \n",
    "- [Huggingface](https://huggingface.co/models) is the headquarter for all sorts of models\n",
    "- [MLStudio](https://lmstudio.ai/) and [GPT4All](https://gpt4all.io/index.html) are two of the prominent GUI interfaces to make installation and use a breeze.\n",
    "  \n",
    "\n"
   ]
  },
  {
   "cell_type": "code",
   "execution_count": 36,
   "id": "f9ae4eee-6e32-486e-a421-62cd025a7df9",
   "metadata": {},
   "outputs": [
    {
     "name": "stdout",
     "output_type": "stream",
     "text": [
      " I don't have real-time data, so I can't provide you with the exact Program Committee for the LDAC (Large-scale Data and Applications Conference) 2024 workshop. However, I can tell you that typically, such committees are composed of respected researchers, experts, and practitioners in the field. They are often selected based on their experience, contributions to the relevant research areas, and ability to review papers effectively. If you're interested in the LDAC 2024 workshop, I recommend checking the official conference website for updates as they become available.\n"
     ]
    }
   ],
   "source": [
    "from langchain_community.llms import Ollama\n",
    "ollama = Ollama(\n",
    "    base_url='http://localhost:11434',\n",
    "    model=\"mistral\"\n",
    ")\n",
    "print(ollama.invoke(\"Who is in the programm committee of the LDAC 2024 workshop?\"))"
   ]
  },
  {
   "cell_type": "markdown",
   "id": "66f0e8d2-f39a-4ef4-be75-6f6bfeb625e8",
   "metadata": {},
   "source": [
    "# Ingest\n",
    "Lets retrieve some information to use as embeddings\n",
    "Why don't we start with our own context: LDAC 2024! Yay!\n"
   ]
  },
  {
   "cell_type": "code",
   "execution_count": 37,
   "id": "678001e3-f831-4a7a-b202-e83fb055a7fe",
   "metadata": {},
   "outputs": [],
   "source": [
    "from langchain.document_loaders import WebBaseLoader\n",
    "loader = WebBaseLoader(\"https://linkedbuildingdata.net/ldac2024/\")\n",
    "\n",
    "data = loader.load()"
   ]
  },
  {
   "cell_type": "markdown",
   "id": "56dc7046-b52c-4ed3-8fd5-fb5a32c6a5fd",
   "metadata": {},
   "source": [
    "In order to be fed to our RAG, let's chop up the html into tokens. There are a lot of tokenizers to adress different types of input data, e.g. PDFs etc. \n",
    "In this case we are dealing with HTML and we e.g. don't want to polute our embeddings with html tags like `<b> <pre> <div>` , javascript etc. \n",
    "\n",
    "Langchain has us covered with a number of different variations."
   ]
  },
  {
   "cell_type": "code",
   "execution_count": 38,
   "id": "b34584fc-16f9-4523-98fd-c8b73a7ad9da",
   "metadata": {},
   "outputs": [],
   "source": [
    "from langchain.text_splitter import RecursiveCharacterTextSplitter\n",
    "\n",
    "text_splitter=RecursiveCharacterTextSplitter(chunk_size=2000, chunk_overlap=0)\n",
    "all_splits = text_splitter.split_documents(data)"
   ]
  },
  {
   "cell_type": "markdown",
   "id": "90ca3968-aad5-4a64-9094-de47528d1042",
   "metadata": {},
   "source": [
    "The raw daata is ready, we can feed it into a vector store. We are using Chroma. There are a lot of different options available, and two months from the time of this writing, things will have broken already... we are living in very dynamic times."
   ]
  },
  {
   "cell_type": "code",
   "execution_count": 39,
   "id": "326103a6-83ba-4a82-a807-7981dab1d891",
   "metadata": {},
   "outputs": [],
   "source": [
    "from langchain.embeddings import OllamaEmbeddings\n",
    "from langchain.vectorstores import Chroma\n",
    "oembed = OllamaEmbeddings(base_url=\"http://localhost:11434\", model=\"nomic-embed-text\")\n",
    "vectorstore = Chroma.from_documents(documents=all_splits, embedding=oembed)"
   ]
  },
  {
   "cell_type": "code",
   "execution_count": 40,
   "id": "e0972378-0459-4e58-9478-bde35342b851",
   "metadata": {},
   "outputs": [
    {
     "name": "stdout",
     "output_type": "stream",
     "text": [
      " LDAC stands for Low-Latency High-Performance Lossless Audio Codec. It's a modern audio coding technology developed by Sony. LDAC provides a wireless Bluetooth audio transmission method with high-fidelity sound close to that of CD-quality, while keeping the data efficiency necessary for wireless transmission.\n",
      "\n",
      "As for who is part of the committee, it seems there isn't a specific publicly known committee for the development of LDAC. However, Sony Electronics Inc. is the primary developer and promoter of this technology. Other companies may have collaborated or contributed to its development as part of industry partnerships, but the exact details aren't openly disclosed. It's always a good idea to check the official websites or publications from Sony for more accurate information regarding LDAC development.\n"
     ]
    }
   ],
   "source": [
    "from langchain_community.llms import Ollama\n",
    "ollama = Ollama(\n",
    "    base_url='http://localhost:11434',\n",
    "    model=\"mistral\"\n",
    ")\n",
    "print(ollama.invoke(\"what is the LDAC and who is part of the committee\"))"
   ]
  },
  {
   "cell_type": "markdown",
   "id": "1017e80f-7c63-40cf-8e53-71f63fd37e66",
   "metadata": {},
   "source": [
    "Let's see what documents the vecotre store finds for similarities for our question"
   ]
  },
  {
   "cell_type": "code",
   "execution_count": 41,
   "id": "a850168a-24d9-4c24-834a-66e67c5e836e",
   "metadata": {},
   "outputs": [
    {
     "data": {
      "text/plain": [
       "4"
      ]
     },
     "execution_count": 41,
     "metadata": {},
     "output_type": "execute_result"
    }
   ],
   "source": [
    "question=\"who is in the programm committee of the LDAC 2024?\"\n",
    "docs = vectorstore.similarity_search(question)\n",
    "len(docs)"
   ]
  },
  {
   "cell_type": "code",
   "execution_count": 42,
   "id": "730bc115-bb29-4d81-b636-27964e916d59",
   "metadata": {},
   "outputs": [
    {
     "data": {
      "text/plain": [
       "[Document(page_content='Programme Committee\\n\\n\\n\\nJakob Beetz\\nCalin Boje\\nLasitha Chamari\\nDavid Chaves\\nAndrea Cimmino\\nGonçal Costa\\nAaron Costin\\nAlex Donkers\\n\\n\\n\\n\\n\\n\\xa0\\n\\n\\n\\nDiellza Elshani\\nRaúl García-Castro\\nPhilipp Hagedorn\\nAna Iglesias-Molina\\nMaxime Lefrançois\\nDimitris Mavrokapnidis\\nClaudio Mirarchi\\nJyrki Oraskari\\n\\n\\n\\n\\n\\n\\xa0\\n\\n\\n\\nNicolas Pauen\\nPieter Pauwels\\nEkaterina Petrova\\nMaría Poveda-Villalón\\nDimitrios Rovas\\nAna Roxin\\nOliver Schulz\\n\\n\\n\\n\\n\\n\\xa0\\n\\n\\n\\nMadhumitha Senthilvel\\nÁlvaro Sicilia\\nDaniele Spoladore\\nWalter Terkaj\\nEdlira Vakaj\\nJeroen Werbrouck\\nSven Zentgraf\\n\\n\\n \\n \\n\\n\\n\\nImportant Dates\\n\\n\\n\\n                                Registration opens: \\nJanuary 19, 2024 January 31, 2024\\n                                Abstract submission deadline (optional - no review): \\nJanuary 19, 2024 January 31, 2024\\nPaper submission deadline: \\nFebruary 02, 2024 February 16, 2024\\t\\t\\t\\t\\t\\n                                Poster track submission deadline: \\nFebruary 18, 2024 March 28, 2024\\n                                Notification of acceptance: \\nMarch 15, 2024\\nFinal paper submission: \\nApril 19, 2024\\n\\n\\nLDAC Summer School: 10-14 June 2024 \\n                                LDAC Workshop: 13-14 June 2024\\n\\n\\n \\n\\n\\nEasyChair\\n\\n\\nScientific research papers and PhD posters are both welcome for submission in the LDAC2024 Easychair platform. Make your submission in PDF at https://easychair.org/my/conference?conf=ldac2024# before the poster or paper submission deadline. Please follow the CEUR WS Proceedings template (Word, LaTeX) in one-column format, both for the research papers and the posters, and make a submission directly via EasyChair in PDF. This can also be prepared using the template file in Overleaf, as mentioned in http://ceur-ws.org/Vol-XXX/.\\n\\nSubmit Article\\nSubmit Poster\\n\\n\\n \\n\\n\\nPaper Review Procedure\\n\\n\\nResearch paper submissions will be peer-reviewed by the Program Committee. All accepted papers will be published as part of a separate volume of the CEUR-WS proceedings separated by full papers (10-14 pages) and short papers (5-9 pages). This does not include the industry contributions, which follow a different industry track procedure, nor the poster presentations, which can be submitted in a separate poster track. All CEUR-WS proceedings are scopus-indexed.\\n\\nSubmit Article\\n\\n\\n \\n\\n\\nPoster Review Procedure\\n\\n\\nTo present a poster at LDAC2024, you have to submit an extended abstract of your work via the EasyChair platform. Extended abstracts for the PhD poster track must contain max. 500 words describing the content of the work to be presented in the poster. Please follow the CEUR WS Proceedings template (Word, LaTeX) in one-column format. Submissions are reviewed by the program committee regarding their topicality and quality. They will not be published in the workshop proceedings. \\n\\nSubmit Poster\\n\\n\\n \\n\\n\\nCEUR Workshop Proceedings\\n\\n\\nAll CEUR-WS proceedings are scopus-indexed. Previous proceedings can be found here:\\n\\nLDAC 2023 - CEUR-WS Proceedings Vol. 3633\\nLDAC 2022 - CEUR-WS Proceedings Vol. 3213\\nLDAC 2021 - CEUR-WS Proceedings Vol. 3081\\nLDAC 2020 - CEUR-WS Proceedings Vol. 2636\\nLDAC 2019 - CEUR-WS Proceedings Vol. 2389\\nLDAC 2018 - CEUR-WS Proceedings Vol. 2159\\n\\nFor more information or questions, you can contact the organisers at ldac2024[AT]linkedbuildingdata.net.\\n\\n \\n\\n \\n\\n\\n\\nKeynotes\\n\\n\\n                            Keynotes\\n                        \\n\\n\\n\\n                            In addition to the SSoLDAC Summer School keynote presentation, the LDAC workshop hosts two excellent keynotes on Thursday and Friday.\\n                        \\n\\n \\n\\n\\n\\n\\nRaúl García-Castro\\nOntology Engineering Group, UPM\\n\\n\\nDr. Raúl García-Castro is Associate Professor at the Computer Science School at Universidad Politécnica de Madrid (UPM), Spain. After three years as a software engineer, since he graduated in Computer Science (2003) he has been working at UPM in the Ontology Engineering Group in several European and Spanish research projects. His research focuses on the ontological engineering, semantic interoperability, and ontology-based data and application integration. In 2008 he obtained a Ph.D. in Computer Science and Artificial Intelligence at the UPM with his thesis titled “Benchmarking Semantic Web technology”, which obtained the Ph.D. Extraordinary Award at UPM. He regularly participates in standardization bodies (W3C, OASIS, AENOR) and in the program committees of the conferences and workshops that are most relevant in the field and has organised several international conferences and workshops. You can find out more about Raúl on his website: http://www.garcia-castro.com.\\n\\n \\n\\n\\n\\nMartin Voight\\nElevait', metadata={'language': 'en', 'source': 'https://linkedbuildingdata.net/ldac2024/', 'title': 'LDAC2024 - Linked Data in Architecture and Construction'}),\n",
       " Document(page_content='LDAC2024 - Linked Data in Architecture and Construction\\n\\n\\n\\n\\n\\n\\n\\n\\n\\n\\n\\n\\n\\n\\n\\n\\n\\n\\n\\n\\n\\n\\n\\n\\n\\n\\n\\n\\n\\nMenu\\n \\n\\n\\nIntro\\nCFP\\nTopics\\nSubmission\\nKeynotes\\nProgram\\nSummer School\\nRegistration\\nVenue\\nOrganisation\\nSupport\\n \\n \\n \\n \\n\\n\\n\\n\\n\\n\\n\\n\\n\\n                        LDAC2024 - Linked Data \\n                        in Architecture  \\n                        and Construction\\n                        \\n\\nSubmit\\nRegistration\\nSummer School\\nSubscribe to updates\\n\\n \\n \\n\\n\\nScroll Down\\n\\n \\n \\n\\n\\n\\nCall for Participation', metadata={'language': 'en', 'source': 'https://linkedbuildingdata.net/ldac2024/', 'title': 'LDAC2024 - Linked Data in Architecture and Construction'}),\n",
       " Document(page_content='LDAC2024 - Linked Data in Architecture and Construction\\n\\n\\n\\n\\n\\n\\n\\n\\n\\n\\n\\n\\n\\n\\n\\n\\n\\n\\n\\n\\n\\n\\n\\n\\n\\n\\n\\n\\n\\nMenu\\n \\n\\n\\nIntro\\nCFP\\nTopics\\nSubmission\\nKeynotes\\nProgram\\nSummer School\\nRegistration\\nVenue\\nOrganisation\\nSupport\\n \\n \\n \\n \\n\\n\\n\\n\\n\\n\\n\\n\\n\\n                        LDAC2024 - Linked Data \\n                        in Architecture  \\n                        and Construction\\n                        \\n\\nSubmit\\nRegistration\\nSummer School\\nSubscribe to updates\\n\\n \\n \\n\\n\\nScroll Down\\n\\n \\n \\n\\n\\n\\nCall for Participation', metadata={'language': 'en', 'source': 'https://linkedbuildingdata.net/ldac2024/', 'title': 'LDAC2024 - Linked Data in Architecture and Construction'}),\n",
       " Document(page_content='LDAC2024 - Linked Data in Architecture and Construction\\n\\n\\n\\n\\n\\n\\n\\n\\n\\n\\n\\n\\n\\n\\n\\n\\n\\n\\n\\n\\n\\n\\n\\n\\n\\n\\n\\n\\n\\nMenu\\n \\n\\n\\nIntro\\nCFP\\nTopics\\nSubmission\\nKeynotes\\nProgram\\nSummer School\\nRegistration\\nVenue\\nOrganisation\\nSupport\\n \\n \\n \\n \\n\\n\\n\\n\\n\\n\\n\\n\\n\\n                        LDAC2024 - Linked Data \\n                        in Architecture  \\n                        and Construction\\n                        \\n\\nSubmit\\nRegistration\\nSummer School\\nSubscribe to updates\\n\\n \\n \\n\\n\\nScroll Down\\n\\n \\n \\n\\n\\n\\nCall for Participation', metadata={'language': 'en', 'source': 'https://linkedbuildingdata.net/ldac2024/', 'title': 'LDAC2024 - Linked Data in Architecture and Construction'})]"
      ]
     },
     "execution_count": 42,
     "metadata": {},
     "output_type": "execute_result"
    }
   ],
   "source": [
    "docs"
   ]
  },
  {
   "cell_type": "code",
   "execution_count": 43,
   "id": "75286988-df48-4001-a32a-a719f9d48258",
   "metadata": {},
   "outputs": [
    {
     "name": "stdout",
     "output_type": "stream",
     "text": [
      " The Program Committee of LDAC 2024 consists of the following individuals: Jakob Beetz, Calin Boje, Laszlo Bujtor, Laszlo Garai, Laszlo Konya, Laszlo Molnar, Balazs Nagy, Attila Pinter, Miklos Szegedi, Janos Vincze, Zoltan Nagy, Peter Palotas, Csaba Pinter, Imre Sinka, Gabor Tardos, Andras Vanek, Gergely Varro, Istvan Veres, Bence Kovacs, Gyorgy Palfi, Balazs Bajko, Daniel Kiss, Janos Molnar, Zoltan Horvath, Peter Palotas, Jeno Farkas, Laszlo Szigeti, Robert Fiser, Gabor Szelei, Zoltan Toth, Istvan Gyorfi, Tamas Fogarasi, Zsolt Pallagi, Attila Fekete, Peter Nagy, Tamas Racz, Balazs Danko, Tamas Tardos, Jozsef Kovacs, Gabor Papp, Tibor Szalai, Peter Varhelyi, Andras Kiss, Bela Toth, Miklos Varga, Csaba Farkas, Laszlo Racz, Attila Nagy, Zoltan Olah, Laszlo Toth, Janos Kovacs, Csaba Horvath, Gabor Mihaly, Attila Tordai, Laszlo Veres, Imre Szep, Balazs Farkas, Andras Biro, Istvan Varga, Peter Kovacs, Tibor Vizler, Janos Papp, Gergely Varga, Zoltan Bartha, Andras Szilagyi, Attila Horvath, Laszlo Szigeti, Gabor Szegedi, Balazs Tordai, Bela Kiss, Peter Horvath, Csaba Farkas, Peter Gyimesi, Tamas Racz, Balazs Somogyi, Zoltan Pinter, Gergely Kovacs, Balint Nemeth, Peter Nagy, Andras Kiss, and Raúl García-Castro.\n"
     ]
    }
   ],
   "source": [
    "from langchain.chains import RetrievalQA\n",
    "qachain=RetrievalQA.from_chain_type(ollama, retriever=vectorstore.as_retriever())\n",
    "res = qachain.invoke({\"query\": question})\n",
    "print(res['result'])"
   ]
  },
  {
   "cell_type": "code",
   "execution_count": 44,
   "id": "b4447018-d5fd-45fe-9d61-2f00e69fd2fd",
   "metadata": {},
   "outputs": [
    {
     "name": "stdout",
     "output_type": "stream",
     "text": [
      " The semantic scope with respect to data for the LDAC (Linked Data in Architecture and Construction) conference pertains to the usage of semantic web, linked data, and web of data technologies in the context of architecture and construction. This includes research related to design, engineering, construction, and operation within these fields.\n"
     ]
    }
   ],
   "source": [
    "question=\"what is the semantic scope with respect to data of the LDAC\"\n",
    "docs = vectorstore.similarity_search(question)\n",
    "qachain=RetrievalQA.from_chain_type(ollama, retriever=vectorstore.as_retriever())\n",
    "res = qachain.invoke({\"query\": question})\n",
    "print(res['result'])"
   ]
  },
  {
   "cell_type": "code",
   "execution_count": null,
   "id": "b0a31fc9-1969-4b80-bc64-865110627026",
   "metadata": {},
   "outputs": [],
   "source": [
    "import json\n",
    "from langchain.vectorstores import Chroma\n",
    "\n",
    "def save_vectorstore_to_file(vectorstore, filename):\n",
    "    # Extract documents and metadata\n",
    "    documents = vectorstore._collection.get()[\"documents\"]\n",
    "    metadatas = vectorstore._collection.get()[\"metadatas\"]\n",
    "\n",
    "    # Prepare data for serialization\n",
    "    data_to_save = {\n",
    "        \"documents\": documents,\n",
    "        \"metadatas\": metadatas\n",
    "    }\n",
    "\n",
    "    # Save to file\n",
    "    with open(filename, 'w') as f:\n",
    "        json.dump(data_to_save, f)\n",
    "\n",
    "# Save the vectorstore to a JSON file\n",
    "save_vectorstore_to_file(vectorstore, 'vectorstore_data.json')\n"
   ]
  },
  {
   "cell_type": "code",
   "execution_count": null,
   "id": "35328047-3042-4499-a7bd-3abc7cd1d064",
   "metadata": {},
   "outputs": [],
   "source": []
  }
 ],
 "metadata": {
  "kernelspec": {
   "display_name": "Python 3 (ipykernel)",
   "language": "python",
   "name": "python3"
  },
  "language_info": {
   "codemirror_mode": {
    "name": "ipython",
    "version": 3
   },
   "file_extension": ".py",
   "mimetype": "text/x-python",
   "name": "python",
   "nbconvert_exporter": "python",
   "pygments_lexer": "ipython3",
   "version": "3.12.3"
  }
 },
 "nbformat": 4,
 "nbformat_minor": 5
}
