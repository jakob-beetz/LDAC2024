{
 "cells": [
  {
   "cell_type": "markdown",
   "id": "455892da-45fb-48c5-bceb-ff453d8d5113",
   "metadata": {},
   "source": [
    "# Install the necessary python libraries "
   ]
  },
  {
   "cell_type": "code",
   "execution_count": null,
   "id": "c8894b7a-4dba-4b18-b3c7-171341f43967",
   "metadata": {},
   "outputs": [],
   "source": [
    "!pip install rdflib SPARQLWrapper bs4"
   ]
  },
  {
   "cell_type": "markdown",
   "id": "f8480bc7-1c6b-4d2a-aa95-fb20719991f0",
   "metadata": {},
   "source": [
    "## DBPedia and helper functions\n",
    "Define some hleper Functions "
   ]
  },
  {
   "cell_type": "code",
   "execution_count": null,
   "id": "5f4a8422-568c-453e-b90e-791ca2c68601",
   "metadata": {},
   "outputs": [],
   "source": [
    "from SPARQLWrapper import SPARQLWrapper, JSON\n",
    "import pandas as pd\n",
    "import json\n",
    "\n",
    "# Function to query DBpedia\n",
    "def query_dbpedia(sparql_query):\n",
    "    sparql = SPARQLWrapper(\"http://dbpedia.org/sparql\")\n",
    "    sparql.setQuery(sparql_query)\n",
    "    sparql.setReturnFormat(JSON)\n",
    "    results = sparql.query().convert()\n",
    "    \n",
    "    return results[\"results\"][\"bindings\"]"
   ]
  },
  {
   "cell_type": "markdown",
   "id": "2435409b-4e44-489b-96fd-3aa67e62e57f",
   "metadata": {},
   "source": [
    "Define some SPARQL Functions that catch concepts related to \"Building Materials\" Node which lives at https://dbpedia.org/page/Category:Building_materials\n"
   ]
  },
  {
   "cell_type": "code",
   "execution_count": null,
   "id": "257e1d73-fa4d-4ae8-b542-27b25138b5c6",
   "metadata": {},
   "outputs": [],
   "source": [
    "# SPARQL query for English\n",
    "sparql_query_en = \"\"\"\n",
    "PREFIX dbr: <http://dbpedia.org/resource/>\n",
    "PREFIX dbo: <http://dbpedia.org/ontology/>\n",
    "PREFIX dcterms: <http://purl.org/dc/terms/>\n",
    "\n",
    "SELECT ?subject ?subjectLabel ?abstract\n",
    "WHERE {\n",
    "  ?subject dcterms:subject dbc:Building_materials .\n",
    "  ?subject rdfs:label ?subjectLabel .\n",
    "  ?subject dbo:abstract ?abstract .\n",
    "  FILTER (lang(?abstract) = \"en\" && lang(?subjectLabel) = \"en\")\n",
    "}\n",
    "LIMIT 1000\n",
    "\"\"\"\n",
    "\n",
    "# SPARQL query for German\n",
    "sparql_query_de = \"\"\"\n",
    "PREFIX dbr: <http://dbpedia.org/resource/>\n",
    "PREFIX dbo: <http://dbpedia.org/ontology/>\n",
    "PREFIX dcterms: <http://purl.org/dc/terms/>\n",
    "\n",
    "SELECT ?subject ?subjectLabel ?abstract\n",
    "WHERE {\n",
    "  ?subject dcterms:subject dbc:Building_materials .\n",
    "  ?subject rdfs:label ?subjectLabel .\n",
    "  ?subject dbo:abstract ?abstract .\n",
    "  FILTER (lang(?abstract) = \"de\" && lang(?subjectLabel) = \"de\")\n",
    "}\n",
    "LIMIT 1000\n",
    "\"\"\""
   ]
  },
  {
   "cell_type": "markdown",
   "id": "e8698f7d-d7f7-4157-beba-baa4b5f17426",
   "metadata": {},
   "source": [
    "Retrieve the builing material information, store it into a simple csv file, separated by languages.\n",
    "Go ahead and change the language to your needs\n"
   ]
  },
  {
   "cell_type": "code",
   "execution_count": null,
   "id": "910edf1c-9f41-4bf0-9374-83f2f6ad45ff",
   "metadata": {},
   "outputs": [],
   "source": [
    "# Query DBpedia for English data\n",
    "results_en = query_dbpedia(sparql_query_en)\n",
    "df_en = pd.DataFrame(results_en)\n",
    "df_en = df_en.map(lambda x: x['value'])\n",
    "\n",
    "# Query DBpedia for German data\n",
    "results_de = query_dbpedia(sparql_query_de)\n",
    "df_de = pd.DataFrame(results_de)\n",
    "df_de = df_de.map(lambda x: x['value'])\n",
    "\n",
    "# Save the results to CSV files\n",
    "df_en.to_csv('./data/dbpedia_building_materials_en.csv', index=False)\n",
    "df_de.to_csv('./data/dbpedia_building_materials_de.csv', index=False)\n",
    "\n",
    "display(df_en)"
   ]
  },
  {
   "cell_type": "code",
   "execution_count": null,
   "id": "3c42028c-7134-4cb0-8394-404a205d1442",
   "metadata": {},
   "outputs": [],
   "source": []
  }
 ],
 "metadata": {
  "kernelspec": {
   "display_name": "Python 3 (ipykernel)",
   "language": "python",
   "name": "python3"
  },
  "language_info": {
   "codemirror_mode": {
    "name": "ipython",
    "version": 3
   },
   "file_extension": ".py",
   "mimetype": "text/x-python",
   "name": "python",
   "nbconvert_exporter": "python",
   "pygments_lexer": "ipython3",
   "version": "3.12.3"
  }
 },
 "nbformat": 4,
 "nbformat_minor": 5
}
